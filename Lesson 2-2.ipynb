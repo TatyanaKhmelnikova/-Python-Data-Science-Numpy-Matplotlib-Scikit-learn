{
 "cells": [
  {
   "cell_type": "markdown",
   "id": "f7314383",
   "metadata": {},
   "source": [
    "### Задание 4"
   ]
  },
  {
   "cell_type": "markdown",
   "id": "de95e522",
   "metadata": {},
   "source": [
    "В этом задании мы будем работать с датасетом, в котором приведены данные по мошенничеству с кредитными данными: Credit Card Fraud Detection (информация об авторах: Andrea Dal Pozzolo, Olivier Caelen, Reid A. Johnson and Gianluca Bontempi. Calibrating Probability with Undersampling for Unbalanced Classification. In Symposium on Computational Intelligence and Data Mining (CIDM), IEEE, 2015).\n",
    "Ознакомьтесь с описанием и скачайте датасет creditcard.csv с сайта Kaggle.com по ссылке:\n",
    "Credit Card Fraud Detection\n",
    "Данный датасет является примером несбалансированных данных, так как мошеннические операции с картами встречаются реже обычных.\n",
    "Импортируйте библиотеку Pandas, а также используйте для графиков стиль “fivethirtyeight”.\n",
    "Посчитайте с помощью метода value_counts количество наблюдений для каждого значения целевой переменной Class и примените к полученным данным метод plot, чтобы построить столбчатую диаграмму. Затем постройте такую же диаграмму, используя логарифмический масштаб.\n",
    "На следующем графике постройте две гистограммы по значениям признака V1 - одну для мошеннических транзакций (Class равен 1) и другую - для обычных (Class равен 0). Подберите значение аргумента density так, чтобы по вертикали графика было расположено не число наблюдений, а плотность распределения. Число бинов должно равняться 20 для обеих гистограмм, а коэффициент alpha сделайте равным 0.5, чтобы гистограммы были полупрозрачными и не загораживали друг друга. Создайте легенду с двумя значениями: “Class 0” и “Class 1”. Гистограмма обычных транзакций должна быть серого цвета, а мошеннических - красного. Горизонтальной оси дайте название “V1”.\n"
   ]
  },
  {
   "cell_type": "code",
   "execution_count": 2,
   "id": "6b7417b9",
   "metadata": {},
   "outputs": [],
   "source": [
    "import matplotlib.pyplot as plt\n",
    "import numpy as np\n",
    "import pandas as pd"
   ]
  },
  {
   "cell_type": "code",
   "execution_count": 3,
   "id": "45546d52",
   "metadata": {},
   "outputs": [],
   "source": [
    "df = pd.read_csv('creditcard.csv')"
   ]
  },
  {
   "cell_type": "code",
   "execution_count": 4,
   "id": "62d3d257",
   "metadata": {},
   "outputs": [
    {
     "data": {
      "text/plain": [
       "0    284315\n",
       "1       492\n",
       "Name: Class, dtype: int64"
      ]
     },
     "execution_count": 4,
     "metadata": {},
     "output_type": "execute_result"
    }
   ],
   "source": [
    "class_list = df['Class'].value_counts()\n",
    "class_list"
   ]
  },
  {
   "cell_type": "code",
   "execution_count": 5,
   "id": "46460a82",
   "metadata": {},
   "outputs": [
    {
     "data": {
      "image/png": "[encoded data removed]",
      "text/plain": [
       "<Figure size 432x288 with 1 Axes>"
      ]
     },
     "metadata": {
      "needs_background": "light"
     },
     "output_type": "display_data"
    }
   ],
   "source": [
    "class_list.plot(kind='barh')\n",
    "plt.show()"
   ]
  },
  {
   "cell_type": "code",
   "execution_count": 7,
   "id": "5e8e3de5",
   "metadata": {},
   "outputs": [
    {
     "data": {
      "image/png": "[encoded data removed]",
      "text/plain": [
       "<Figure size 432x288 with 1 Axes>"
      ]
     },
     "metadata": {
      "needs_background": "light"
     },
     "output_type": "display_data"
    }
   ],
   "source": [
    "class_list.plot(kind='barh', logx=True)\n",
    "plt.show()"
   ]
  },
  {
   "cell_type": "code",
   "execution_count": 8,
   "id": "7bf34da2",
   "metadata": {},
   "outputs": [],
   "source": [
    "class0 = df.loc[df['Class'] == 0, ['V1']]\n",
    "class1 = df.loc[df['Class'] == 1, ['V1']]"
   ]
  },
  {
   "cell_type": "code",
   "execution_count": 9,
   "id": "31149313",
   "metadata": {},
   "outputs": [
    {
     "data": {
      "image/png": "[encoded data removed]",
      "text/plain": [
       "<Figure size 432x288 with 1 Axes>"
      ]
     },
     "metadata": {
      "needs_background": "light"
     },
     "output_type": "display_data"
    }
   ],
   "source": [
    "plt.hist(class0['V1'], bins=20, density=True, alpha=0.5, label='Class 0', color='grey')\n",
    "plt.hist(class1['V1'], bins=20, density=True, alpha=0.5, label='Class 1', color='red')\n",
    "plt.legend()\n",
    "plt.show()"
   ]
  },
  {
   "cell_type": "markdown",
   "id": "fa77fd10",
   "metadata": {},
   "source": [
    "### **Задание на повторение материала"
   ]
  },
  {
   "cell_type": "markdown",
   "id": "a32bbe32",
   "metadata": {},
   "source": [
    "Создать одномерный массив Numpy под названием a из 12 последовательных целых чисел чисел от 12 до 24 невключительно"
   ]
  },
  {
   "cell_type": "code",
   "execution_count": 15,
   "id": "633484ec",
   "metadata": {},
   "outputs": [
    {
     "name": "stdout",
     "output_type": "stream",
     "text": [
      "[12 13 14 15 16 17 18 19 20 21 22 23]\n"
     ]
    }
   ],
   "source": [
    "a = np.arange(12, 24)\n",
    "print(a)"
   ]
  },
  {
   "cell_type": "markdown",
   "id": "167749f0",
   "metadata": {},
   "source": [
    "Создать 5 двумерных массивов разной формы из массива a. Не использовать в аргументах метода reshape число -1."
   ]
  },
  {
   "cell_type": "code",
   "execution_count": 16,
   "id": "345653d5",
   "metadata": {},
   "outputs": [
    {
     "data": {
      "text/plain": [
       "array([[12, 13, 14, 15],\n",
       "       [16, 17, 18, 19],\n",
       "       [20, 21, 22, 23]])"
      ]
     },
     "execution_count": 16,
     "metadata": {},
     "output_type": "execute_result"
    }
   ],
   "source": [
    "b1 = a.reshape(3, 4)\n",
    "b1"
   ]
  },
  {
   "cell_type": "code",
   "execution_count": 18,
   "id": "818b3cea",
   "metadata": {},
   "outputs": [
    {
     "data": {
      "text/plain": [
       "array([[12, 13, 14],\n",
       "       [15, 16, 17],\n",
       "       [18, 19, 20],\n",
       "       [21, 22, 23]])"
      ]
     },
     "execution_count": 18,
     "metadata": {},
     "output_type": "execute_result"
    }
   ],
   "source": [
    "b2 = a.reshape(4, 3)\n",
    "b2"
   ]
  },
  {
   "cell_type": "code",
   "execution_count": 22,
   "id": "df3cef21",
   "metadata": {},
   "outputs": [
    {
     "data": {
      "text/plain": [
       "array([[12, 13, 14, 15, 16, 17],\n",
       "       [18, 19, 20, 21, 22, 23]])"
      ]
     },
     "execution_count": 22,
     "metadata": {},
     "output_type": "execute_result"
    }
   ],
   "source": [
    "b3 = a.reshape(2, 6)\n",
    "b3"
   ]
  },
  {
   "cell_type": "code",
   "execution_count": 24,
   "id": "637dd962",
   "metadata": {},
   "outputs": [
    {
     "data": {
      "text/plain": [
       "array([[12, 13],\n",
       "       [14, 15],\n",
       "       [16, 17],\n",
       "       [18, 19],\n",
       "       [20, 21],\n",
       "       [22, 23]])"
      ]
     },
     "execution_count": 24,
     "metadata": {},
     "output_type": "execute_result"
    }
   ],
   "source": [
    "b4 = a.reshape(6, 2)\n",
    "b4"
   ]
  },
  {
   "cell_type": "code",
   "execution_count": 25,
   "id": "3e37a6c1",
   "metadata": {},
   "outputs": [
    {
     "data": {
      "text/plain": [
       "array([[12],\n",
       "       [13],\n",
       "       [14],\n",
       "       [15],\n",
       "       [16],\n",
       "       [17],\n",
       "       [18],\n",
       "       [19],\n",
       "       [20],\n",
       "       [21],\n",
       "       [22],\n",
       "       [23]])"
      ]
     },
     "execution_count": 25,
     "metadata": {},
     "output_type": "execute_result"
    }
   ],
   "source": [
    "b5 = a.reshape(12, 1)\n",
    "b5"
   ]
  },
  {
   "cell_type": "markdown",
   "id": "b147a12a",
   "metadata": {},
   "source": [
    "Создать 5 двумерных массивов разной формы из массива a. Использовать в аргументах метода reshape число -1 (в трех примерах - для обозначения числа столбцов, в двух - для строк)."
   ]
  },
  {
   "cell_type": "code",
   "execution_count": 26,
   "id": "6b3e9795",
   "metadata": {},
   "outputs": [
    {
     "data": {
      "text/plain": [
       "array([[12, 13, 14, 15],\n",
       "       [16, 17, 18, 19],\n",
       "       [20, 21, 22, 23]])"
      ]
     },
     "execution_count": 26,
     "metadata": {},
     "output_type": "execute_result"
    }
   ],
   "source": [
    "c1 = a.reshape(3, -1)\n",
    "c1"
   ]
  },
  {
   "cell_type": "code",
   "execution_count": 27,
   "id": "995fa1fa",
   "metadata": {},
   "outputs": [
    {
     "data": {
      "text/plain": [
       "array([[12, 13, 14],\n",
       "       [15, 16, 17],\n",
       "       [18, 19, 20],\n",
       "       [21, 22, 23]])"
      ]
     },
     "execution_count": 27,
     "metadata": {},
     "output_type": "execute_result"
    }
   ],
   "source": [
    "c2 = a.reshape(4, -1)\n",
    "c2"
   ]
  },
  {
   "cell_type": "code",
   "execution_count": 28,
   "id": "46ec701d",
   "metadata": {},
   "outputs": [
    {
     "data": {
      "text/plain": [
       "array([[12, 13, 14, 15, 16, 17],\n",
       "       [18, 19, 20, 21, 22, 23]])"
      ]
     },
     "execution_count": 28,
     "metadata": {},
     "output_type": "execute_result"
    }
   ],
   "source": [
    "c3 = a.reshape(2, -1)\n",
    "c3"
   ]
  },
  {
   "cell_type": "code",
   "execution_count": 29,
   "id": "b0d47007",
   "metadata": {},
   "outputs": [
    {
     "data": {
      "text/plain": [
       "array([[12, 13, 14, 15],\n",
       "       [16, 17, 18, 19],\n",
       "       [20, 21, 22, 23]])"
      ]
     },
     "execution_count": 29,
     "metadata": {},
     "output_type": "execute_result"
    }
   ],
   "source": [
    "c4 = a.reshape(-1, 4)\n",
    "c4"
   ]
  },
  {
   "cell_type": "code",
   "execution_count": 30,
   "id": "6374ac6c",
   "metadata": {},
   "outputs": [
    {
     "data": {
      "text/plain": [
       "array([[12, 13, 14],\n",
       "       [15, 16, 17],\n",
       "       [18, 19, 20],\n",
       "       [21, 22, 23]])"
      ]
     },
     "execution_count": 30,
     "metadata": {},
     "output_type": "execute_result"
    }
   ],
   "source": [
    "c5 = a.reshape(-1, 3)\n",
    "c5"
   ]
  },
  {
   "cell_type": "markdown",
   "id": "25f3a5e1",
   "metadata": {},
   "source": [
    "Можно ли массив Numpy, состоящий из одного столбца и 12 строк, назвать одномерным?"
   ]
  },
  {
   "cell_type": "markdown",
   "id": "cd193233",
   "metadata": {},
   "source": [
    "нет"
   ]
  },
  {
   "cell_type": "markdown",
   "id": "8e028a87",
   "metadata": {},
   "source": [
    "Создать массив из 3 строк и 4 столбцов, состоящий из случайных чисел с плавающей запятой из нормального распределения со средним, равным 0 и среднеквадратичным отклонением, равным 1.0. Получить из этого массива одномерный массив с таким же атрибутом size, как и исходный массив."
   ]
  },
  {
   "cell_type": "code",
   "execution_count": 34,
   "id": "683512c5",
   "metadata": {},
   "outputs": [
    {
     "data": {
      "text/plain": [
       "array([[-1.0478405 , -1.56144897,  0.15040627, -0.13186936],\n",
       "       [-0.43043475,  0.9639378 , -1.58969654, -0.26415931],\n",
       "       [-0.85199881,  1.89560104,  0.61278122,  0.80036028]])"
      ]
     },
     "execution_count": 34,
     "metadata": {},
     "output_type": "execute_result"
    }
   ],
   "source": [
    "a = np.random.randn(3, 4)\n",
    "a"
   ]
  },
  {
   "cell_type": "code",
   "execution_count": 35,
   "id": "f1fedf85",
   "metadata": {},
   "outputs": [
    {
     "data": {
      "text/plain": [
       "array([-1.0478405 , -1.56144897,  0.15040627, -0.13186936, -0.43043475,\n",
       "        0.9639378 , -1.58969654, -0.26415931, -0.85199881,  1.89560104,\n",
       "        0.61278122,  0.80036028])"
      ]
     },
     "execution_count": 35,
     "metadata": {},
     "output_type": "execute_result"
    }
   ],
   "source": [
    "b = a.flatten()\n",
    "b"
   ]
  },
  {
   "cell_type": "code",
   "execution_count": 38,
   "id": "9783a7d2",
   "metadata": {},
   "outputs": [
    {
     "data": {
      "text/plain": [
       "True"
      ]
     },
     "execution_count": 38,
     "metadata": {},
     "output_type": "execute_result"
    }
   ],
   "source": [
    "a.size == b.size"
   ]
  },
  {
   "cell_type": "markdown",
   "id": "e784c6df",
   "metadata": {},
   "source": [
    "Создать массив a, состоящий из целых чисел, убывающих от 20 до 0 невключительно с интервалом 2."
   ]
  },
  {
   "cell_type": "code",
   "execution_count": 39,
   "id": "a4dfde1f",
   "metadata": {},
   "outputs": [
    {
     "data": {
      "text/plain": [
       "array([20, 18, 16, 14, 12, 10,  8,  6,  4,  2])"
      ]
     },
     "execution_count": 39,
     "metadata": {},
     "output_type": "execute_result"
    }
   ],
   "source": [
    "a = np.arange(20, 0, -2)\n",
    "a"
   ]
  },
  {
   "cell_type": "markdown",
   "id": "24a52e0c",
   "metadata": {},
   "source": [
    "Создать массив b, состоящий из 1 строки и 10 столбцов: целых чисел, убывающих от 20 до 1 невключительно с интервалом 2. В чем разница между массивами a и b?"
   ]
  },
  {
   "cell_type": "code",
   "execution_count": 44,
   "id": "a7955669",
   "metadata": {},
   "outputs": [
    {
     "data": {
      "text/plain": [
       "array([20, 18, 16, 14, 12, 10,  8,  6,  4,  2])"
      ]
     },
     "execution_count": 44,
     "metadata": {},
     "output_type": "execute_result"
    }
   ],
   "source": [
    "b = np.arange(20, 1, -2)\n",
    "b"
   ]
  },
  {
   "cell_type": "code",
   "execution_count": 45,
   "id": "1bea9830",
   "metadata": {},
   "outputs": [
    {
     "data": {
      "text/plain": [
       "array([ True,  True,  True,  True,  True,  True,  True,  True,  True,\n",
       "        True])"
      ]
     },
     "execution_count": 45,
     "metadata": {},
     "output_type": "execute_result"
    }
   ],
   "source": [
    "a == b"
   ]
  },
  {
   "cell_type": "markdown",
   "id": "a335c42d",
   "metadata": {},
   "source": [
    "нет никакой разницы"
   ]
  },
  {
   "cell_type": "markdown",
   "id": "77b24b66",
   "metadata": {},
   "source": [
    "Вертикально соединить массивы a и b. a - двумерный массив из нулей, число строк которого больше 1 и на 1 меньше, чем число строк двумерного массива b, состоящего из единиц. Итоговый массив v должен иметь атрибут size, равный 10."
   ]
  },
  {
   "cell_type": "code",
   "execution_count": 49,
   "id": "c37f65ee",
   "metadata": {},
   "outputs": [],
   "source": [
    "a = np.zeros((3, 2))\n",
    "b = np.ones((2, 2))"
   ]
  },
  {
   "cell_type": "code",
   "execution_count": 50,
   "id": "c3e053b6",
   "metadata": {},
   "outputs": [
    {
     "data": {
      "text/plain": [
       "array([[0., 0.],\n",
       "       [0., 0.],\n",
       "       [0., 0.],\n",
       "       [1., 1.],\n",
       "       [1., 1.]])"
      ]
     },
     "execution_count": 50,
     "metadata": {},
     "output_type": "execute_result"
    }
   ],
   "source": [
    "v = np.vstack((a, b))\n",
    "v"
   ]
  },
  {
   "cell_type": "code",
   "execution_count": 51,
   "id": "58289b2b",
   "metadata": {},
   "outputs": [
    {
     "data": {
      "text/plain": [
       "10"
      ]
     },
     "execution_count": 51,
     "metadata": {},
     "output_type": "execute_result"
    }
   ],
   "source": [
    "v.size"
   ]
  },
  {
   "cell_type": "markdown",
   "id": "2b7296cd",
   "metadata": {},
   "source": [
    "Создать одномерный массив а, состоящий из последовательности целых чисел от 0 до 12. Поменять форму этого массива, чтобы получилась матрица A (двумерный массив Numpy), состоящая из 4 строк и 3 столбцов. Получить матрицу At путем транспонирования матрицы A. Получить матрицу B, умножив матрицу A на матрицу At с помощью матричного умножения. Какой размер имеет матрица B? Получится ли вычислить обратную матрицу для матрицы B и почему?\n"
   ]
  },
  {
   "cell_type": "code",
   "execution_count": 52,
   "id": "011174a2",
   "metadata": {},
   "outputs": [
    {
     "data": {
      "text/plain": [
       "array([ 0,  1,  2,  3,  4,  5,  6,  7,  8,  9, 10, 11])"
      ]
     },
     "execution_count": 52,
     "metadata": {},
     "output_type": "execute_result"
    }
   ],
   "source": [
    "a = np.arange(0, 12)\n",
    "a"
   ]
  },
  {
   "cell_type": "code",
   "execution_count": 53,
   "id": "539b9e30",
   "metadata": {},
   "outputs": [
    {
     "data": {
      "text/plain": [
       "array([[ 0,  1,  2],\n",
       "       [ 3,  4,  5],\n",
       "       [ 6,  7,  8],\n",
       "       [ 9, 10, 11]])"
      ]
     },
     "execution_count": 53,
     "metadata": {},
     "output_type": "execute_result"
    }
   ],
   "source": [
    "A = a.reshape(4, 3)\n",
    "A"
   ]
  },
  {
   "cell_type": "code",
   "execution_count": 54,
   "id": "fabd7b80",
   "metadata": {},
   "outputs": [
    {
     "data": {
      "text/plain": [
       "array([[ 0,  3,  6,  9],\n",
       "       [ 1,  4,  7, 10],\n",
       "       [ 2,  5,  8, 11]])"
      ]
     },
     "execution_count": 54,
     "metadata": {},
     "output_type": "execute_result"
    }
   ],
   "source": [
    "At = A.T\n",
    "At"
   ]
  },
  {
   "cell_type": "code",
   "execution_count": 56,
   "id": "2963e60b",
   "metadata": {},
   "outputs": [
    {
     "data": {
      "text/plain": [
       "array([[  5,  14,  23,  32],\n",
       "       [ 14,  50,  86, 122],\n",
       "       [ 23,  86, 149, 212],\n",
       "       [ 32, 122, 212, 302]])"
      ]
     },
     "execution_count": 56,
     "metadata": {},
     "output_type": "execute_result"
    }
   ],
   "source": [
    "B = A.dot(At)\n",
    "B"
   ]
  },
  {
   "cell_type": "code",
   "execution_count": 57,
   "id": "28a5fa90",
   "metadata": {},
   "outputs": [
    {
     "data": {
      "text/plain": [
       "2"
      ]
     },
     "execution_count": 57,
     "metadata": {},
     "output_type": "execute_result"
    }
   ],
   "source": [
    "B.ndim"
   ]
  },
  {
   "cell_type": "code",
   "execution_count": 58,
   "id": "7e4b7637",
   "metadata": {},
   "outputs": [
    {
     "data": {
      "text/plain": [
       "0.0"
      ]
     },
     "execution_count": 58,
     "metadata": {},
     "output_type": "execute_result"
    }
   ],
   "source": [
    "np.linalg.det(B)"
   ]
  },
  {
   "cell_type": "markdown",
   "id": "37420f2c",
   "metadata": {},
   "source": [
    "Вычислить обратную матрицу для В невозможно, т.к определитель матрицы В равен 0"
   ]
  },
  {
   "cell_type": "markdown",
   "id": "63aa3da8",
   "metadata": {},
   "source": [
    "Инициализируйте генератор случайных числе с помощью объекта seed, равного 42.\n"
   ]
  },
  {
   "cell_type": "code",
   "execution_count": 59,
   "id": "f35ea761",
   "metadata": {},
   "outputs": [],
   "source": [
    "np.random.seed(42)"
   ]
  },
  {
   "cell_type": "markdown",
   "id": "f65b45c3",
   "metadata": {},
   "source": [
    "Создайте одномерный массив c, составленный из последовательности 16-ти случайных равномерно распределенных целых чисел от 0 до 16 невключительно. \n"
   ]
  },
  {
   "cell_type": "code",
   "execution_count": 61,
   "id": "e8aa7495",
   "metadata": {},
   "outputs": [
    {
     "data": {
      "text/plain": [
       "array([ 0,  1,  2,  3,  4,  5,  6,  7,  8,  9, 10, 11, 12, 13, 14, 15])"
      ]
     },
     "execution_count": 61,
     "metadata": {},
     "output_type": "execute_result"
    }
   ],
   "source": [
    "c = np.arange(0, 16)\n",
    "c"
   ]
  },
  {
   "cell_type": "markdown",
   "id": "409ccdf5",
   "metadata": {},
   "source": [
    "Поменяйте его форму так, чтобы получилась квадратная матрица C. Получите матрицу D, поэлементно прибавив матрицу B из предыдущего вопроса к матрице C, умноженной на 10. Вычислите определитель, ранг и обратную матрицу D_inv для D."
   ]
  },
  {
   "cell_type": "code",
   "execution_count": 62,
   "id": "3cc143f6",
   "metadata": {},
   "outputs": [
    {
     "data": {
      "text/plain": [
       "array([[ 0,  1,  2,  3],\n",
       "       [ 4,  5,  6,  7],\n",
       "       [ 8,  9, 10, 11],\n",
       "       [12, 13, 14, 15]])"
      ]
     },
     "execution_count": 62,
     "metadata": {},
     "output_type": "execute_result"
    }
   ],
   "source": [
    "C = c.reshape((4, 4))\n",
    "C"
   ]
  },
  {
   "cell_type": "code",
   "execution_count": 63,
   "id": "67c05c39",
   "metadata": {},
   "outputs": [
    {
     "data": {
      "text/plain": [
       "array([[  5,  24,  43,  62],\n",
       "       [ 54, 100, 146, 192],\n",
       "       [103, 176, 249, 322],\n",
       "       [152, 252, 352, 452]])"
      ]
     },
     "execution_count": 63,
     "metadata": {},
     "output_type": "execute_result"
    }
   ],
   "source": [
    "D = 10 * C + B\n",
    "D"
   ]
  },
  {
   "cell_type": "code",
   "execution_count": 64,
   "id": "486fbe47",
   "metadata": {},
   "outputs": [
    {
     "data": {
      "text/plain": [
       "5.18953807259442e-26"
      ]
     },
     "execution_count": 64,
     "metadata": {},
     "output_type": "execute_result"
    }
   ],
   "source": [
    "np.linalg.det(D)"
   ]
  },
  {
   "cell_type": "code",
   "execution_count": 65,
   "id": "8855ad56",
   "metadata": {},
   "outputs": [
    {
     "data": {
      "text/plain": [
       "array([[ 4.66062690e+13, -1.49229688e+13, -1.09972869e+14,\n",
       "         7.82895692e+13],\n",
       "       [ 1.63480451e+14, -3.81454387e+14,  2.72467419e+14,\n",
       "        -5.44934838e+13],\n",
       "       [-4.66779710e+14,  8.07677680e+14, -2.15016230e+14,\n",
       "        -1.25881740e+14],\n",
       "       [ 2.56692989e+14, -4.11300324e+14,  5.25216801e+13,\n",
       "         1.02085655e+14]])"
      ]
     },
     "execution_count": 65,
     "metadata": {},
     "output_type": "execute_result"
    }
   ],
   "source": [
    "D_inv = np.linalg.inv(D)\n",
    "D_inv"
   ]
  }
 ],
 "metadata": {
  "kernelspec": {
   "display_name": "Python 3 (ipykernel)",
   "language": "python",
   "name": "python3"
  },
  "language_info": {
   "codemirror_mode": {
    "name": "ipython",
    "version": 3
   },
   "file_extension": ".py",
   "mimetype": "text/x-python",
   "name": "python",
   "nbconvert_exporter": "python",
   "pygments_lexer": "ipython3",
   "version": "3.9.7"
  }
 },
 "nbformat": 4,
 "nbformat_minor": 5
}
